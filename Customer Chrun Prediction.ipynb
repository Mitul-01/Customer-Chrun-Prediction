{
 "cells": [
  {
   "cell_type": "code",
   "execution_count": 1,
   "id": "3d00bb7a",
   "metadata": {},
   "outputs": [],
   "source": [
    "import pandas as pd\n",
    "import numpy as np\n",
    "import seaborn as sns\n",
    "import matplotlib.pyplot as plt\n",
    "from sklearn.preprocessing import LabelEncoder\n",
    "from imblearn.combine import SMOTETomek\n",
    "from sklearn.model_selection import train_test_split\n",
    "from sklearn.linear_model import LogisticRegression\n",
    "from sklearn.neighbors import KNeighborsClassifier\n",
    "from sklearn.tree import DecisionTreeClassifier\n",
    "from sklearn.ensemble import RandomForestClassifier\n",
    "from sklearn.svm import SVC\n",
    "from sklearn.naive_bayes import GaussianNB\n",
    "from sklearn.ensemble import GradientBoostingClassifier\n",
    "from sklearn.metrics import accuracy_score, precision_score, recall_score, f1_score, roc_auc_score, roc_curve, ConfusionMatrixDisplay,classification_report\n",
    "import warnings\n",
    "warnings.filterwarnings(\"ignore\")"
   ]
  },
  {
   "cell_type": "code",
   "execution_count": null,
   "id": "f8fad2bd",
   "metadata": {},
   "outputs": [],
   "source": []
  },
  {
   "cell_type": "code",
   "execution_count": 2,
   "id": "db70fba8",
   "metadata": {},
   "outputs": [],
   "source": [
    "df = pd.read_csv(\"bank.csv\")"
   ]
  },
  {
   "cell_type": "code",
   "execution_count": 3,
   "id": "762286fb",
   "metadata": {},
   "outputs": [
    {
     "data": {
      "text/html": [
       "<div>\n",
       "<style scoped>\n",
       "    .dataframe tbody tr th:only-of-type {\n",
       "        vertical-align: middle;\n",
       "    }\n",
       "\n",
       "    .dataframe tbody tr th {\n",
       "        vertical-align: top;\n",
       "    }\n",
       "\n",
       "    .dataframe thead th {\n",
       "        text-align: right;\n",
       "    }\n",
       "</style>\n",
       "<table border=\"1\" class=\"dataframe\">\n",
       "  <thead>\n",
       "    <tr style=\"text-align: right;\">\n",
       "      <th></th>\n",
       "      <th>age;\"job\";\"marital\";\"education\";\"default\";\"balance\";\"housing\";\"loan\";\"contact\";\"day\";\"month\";\"duration\";\"campaign\";\"pdays\";\"previous\";\"poutcome\";\"y\"</th>\n",
       "    </tr>\n",
       "  </thead>\n",
       "  <tbody>\n",
       "    <tr>\n",
       "      <th>0</th>\n",
       "      <td>30;\"unemployed\";\"married\";\"primary\";\"no\";1787;...</td>\n",
       "    </tr>\n",
       "    <tr>\n",
       "      <th>1</th>\n",
       "      <td>33;\"services\";\"married\";\"secondary\";\"no\";4789;...</td>\n",
       "    </tr>\n",
       "    <tr>\n",
       "      <th>2</th>\n",
       "      <td>35;\"management\";\"single\";\"tertiary\";\"no\";1350;...</td>\n",
       "    </tr>\n",
       "    <tr>\n",
       "      <th>3</th>\n",
       "      <td>30;\"management\";\"married\";\"tertiary\";\"no\";1476...</td>\n",
       "    </tr>\n",
       "    <tr>\n",
       "      <th>4</th>\n",
       "      <td>59;\"blue-collar\";\"married\";\"secondary\";\"no\";0;...</td>\n",
       "    </tr>\n",
       "    <tr>\n",
       "      <th>...</th>\n",
       "      <td>...</td>\n",
       "    </tr>\n",
       "    <tr>\n",
       "      <th>4516</th>\n",
       "      <td>33;\"services\";\"married\";\"secondary\";\"no\";-333;...</td>\n",
       "    </tr>\n",
       "    <tr>\n",
       "      <th>4517</th>\n",
       "      <td>57;\"self-employed\";\"married\";\"tertiary\";\"yes\";...</td>\n",
       "    </tr>\n",
       "    <tr>\n",
       "      <th>4518</th>\n",
       "      <td>57;\"technician\";\"married\";\"secondary\";\"no\";295...</td>\n",
       "    </tr>\n",
       "    <tr>\n",
       "      <th>4519</th>\n",
       "      <td>28;\"blue-collar\";\"married\";\"secondary\";\"no\";11...</td>\n",
       "    </tr>\n",
       "    <tr>\n",
       "      <th>4520</th>\n",
       "      <td>44;\"entrepreneur\";\"single\";\"tertiary\";\"no\";113...</td>\n",
       "    </tr>\n",
       "  </tbody>\n",
       "</table>\n",
       "<p>4521 rows × 1 columns</p>\n",
       "</div>"
      ],
      "text/plain": [
       "     age;\"job\";\"marital\";\"education\";\"default\";\"balance\";\"housing\";\"loan\";\"contact\";\"day\";\"month\";\"duration\";\"campaign\";\"pdays\";\"previous\";\"poutcome\";\"y\"\n",
       "0     30;\"unemployed\";\"married\";\"primary\";\"no\";1787;...                                                                                                  \n",
       "1     33;\"services\";\"married\";\"secondary\";\"no\";4789;...                                                                                                  \n",
       "2     35;\"management\";\"single\";\"tertiary\";\"no\";1350;...                                                                                                  \n",
       "3     30;\"management\";\"married\";\"tertiary\";\"no\";1476...                                                                                                  \n",
       "4     59;\"blue-collar\";\"married\";\"secondary\";\"no\";0;...                                                                                                  \n",
       "...                                                 ...                                                                                                  \n",
       "4516  33;\"services\";\"married\";\"secondary\";\"no\";-333;...                                                                                                  \n",
       "4517  57;\"self-employed\";\"married\";\"tertiary\";\"yes\";...                                                                                                  \n",
       "4518  57;\"technician\";\"married\";\"secondary\";\"no\";295...                                                                                                  \n",
       "4519  28;\"blue-collar\";\"married\";\"secondary\";\"no\";11...                                                                                                  \n",
       "4520  44;\"entrepreneur\";\"single\";\"tertiary\";\"no\";113...                                                                                                  \n",
       "\n",
       "[4521 rows x 1 columns]"
      ]
     },
     "execution_count": 3,
     "metadata": {},
     "output_type": "execute_result"
    }
   ],
   "source": [
    "df"
   ]
  },
  {
   "cell_type": "code",
   "execution_count": 4,
   "id": "abea440e",
   "metadata": {},
   "outputs": [],
   "source": [
    "df = pd.read_csv(\"bank.csv\", sep = \";\")"
   ]
  },
  {
   "cell_type": "code",
   "execution_count": 65,
   "id": "5ddd0b68",
   "metadata": {},
   "outputs": [
    {
     "data": {
      "text/html": [
       "<div>\n",
       "<style scoped>\n",
       "    .dataframe tbody tr th:only-of-type {\n",
       "        vertical-align: middle;\n",
       "    }\n",
       "\n",
       "    .dataframe tbody tr th {\n",
       "        vertical-align: top;\n",
       "    }\n",
       "\n",
       "    .dataframe thead th {\n",
       "        text-align: right;\n",
       "    }\n",
       "</style>\n",
       "<table border=\"1\" class=\"dataframe\">\n",
       "  <thead>\n",
       "    <tr style=\"text-align: right;\">\n",
       "      <th></th>\n",
       "      <th>age</th>\n",
       "      <th>job</th>\n",
       "      <th>marital</th>\n",
       "      <th>education</th>\n",
       "      <th>default</th>\n",
       "      <th>balance</th>\n",
       "      <th>housing</th>\n",
       "      <th>loan</th>\n",
       "      <th>contact</th>\n",
       "      <th>day</th>\n",
       "      <th>month</th>\n",
       "      <th>duration</th>\n",
       "      <th>campaign</th>\n",
       "      <th>pdays</th>\n",
       "      <th>previous</th>\n",
       "      <th>poutcome</th>\n",
       "      <th>y</th>\n",
       "    </tr>\n",
       "  </thead>\n",
       "  <tbody>\n",
       "    <tr>\n",
       "      <th>0</th>\n",
       "      <td>30</td>\n",
       "      <td>unemployed</td>\n",
       "      <td>married</td>\n",
       "      <td>primary</td>\n",
       "      <td>no</td>\n",
       "      <td>1787</td>\n",
       "      <td>no</td>\n",
       "      <td>no</td>\n",
       "      <td>cellular</td>\n",
       "      <td>19</td>\n",
       "      <td>oct</td>\n",
       "      <td>79</td>\n",
       "      <td>1</td>\n",
       "      <td>-1</td>\n",
       "      <td>0</td>\n",
       "      <td>unknown</td>\n",
       "      <td>no</td>\n",
       "    </tr>\n",
       "    <tr>\n",
       "      <th>1</th>\n",
       "      <td>33</td>\n",
       "      <td>services</td>\n",
       "      <td>married</td>\n",
       "      <td>secondary</td>\n",
       "      <td>no</td>\n",
       "      <td>4789</td>\n",
       "      <td>yes</td>\n",
       "      <td>yes</td>\n",
       "      <td>cellular</td>\n",
       "      <td>11</td>\n",
       "      <td>may</td>\n",
       "      <td>220</td>\n",
       "      <td>1</td>\n",
       "      <td>339</td>\n",
       "      <td>4</td>\n",
       "      <td>failure</td>\n",
       "      <td>no</td>\n",
       "    </tr>\n",
       "    <tr>\n",
       "      <th>2</th>\n",
       "      <td>35</td>\n",
       "      <td>management</td>\n",
       "      <td>single</td>\n",
       "      <td>tertiary</td>\n",
       "      <td>no</td>\n",
       "      <td>1350</td>\n",
       "      <td>yes</td>\n",
       "      <td>no</td>\n",
       "      <td>cellular</td>\n",
       "      <td>16</td>\n",
       "      <td>apr</td>\n",
       "      <td>185</td>\n",
       "      <td>1</td>\n",
       "      <td>330</td>\n",
       "      <td>1</td>\n",
       "      <td>failure</td>\n",
       "      <td>no</td>\n",
       "    </tr>\n",
       "    <tr>\n",
       "      <th>3</th>\n",
       "      <td>30</td>\n",
       "      <td>management</td>\n",
       "      <td>married</td>\n",
       "      <td>tertiary</td>\n",
       "      <td>no</td>\n",
       "      <td>1476</td>\n",
       "      <td>yes</td>\n",
       "      <td>yes</td>\n",
       "      <td>unknown</td>\n",
       "      <td>3</td>\n",
       "      <td>jun</td>\n",
       "      <td>199</td>\n",
       "      <td>4</td>\n",
       "      <td>-1</td>\n",
       "      <td>0</td>\n",
       "      <td>unknown</td>\n",
       "      <td>no</td>\n",
       "    </tr>\n",
       "    <tr>\n",
       "      <th>4</th>\n",
       "      <td>59</td>\n",
       "      <td>blue-collar</td>\n",
       "      <td>married</td>\n",
       "      <td>secondary</td>\n",
       "      <td>no</td>\n",
       "      <td>0</td>\n",
       "      <td>yes</td>\n",
       "      <td>no</td>\n",
       "      <td>unknown</td>\n",
       "      <td>5</td>\n",
       "      <td>may</td>\n",
       "      <td>226</td>\n",
       "      <td>1</td>\n",
       "      <td>-1</td>\n",
       "      <td>0</td>\n",
       "      <td>unknown</td>\n",
       "      <td>no</td>\n",
       "    </tr>\n",
       "  </tbody>\n",
       "</table>\n",
       "</div>"
      ],
      "text/plain": [
       "   age          job  marital  education default  balance housing loan  \\\n",
       "0   30   unemployed  married    primary      no     1787      no   no   \n",
       "1   33     services  married  secondary      no     4789     yes  yes   \n",
       "2   35   management   single   tertiary      no     1350     yes   no   \n",
       "3   30   management  married   tertiary      no     1476     yes  yes   \n",
       "4   59  blue-collar  married  secondary      no        0     yes   no   \n",
       "\n",
       "    contact  day month  duration  campaign  pdays  previous poutcome   y  \n",
       "0  cellular   19   oct        79         1     -1         0  unknown  no  \n",
       "1  cellular   11   may       220         1    339         4  failure  no  \n",
       "2  cellular   16   apr       185         1    330         1  failure  no  \n",
       "3   unknown    3   jun       199         4     -1         0  unknown  no  \n",
       "4   unknown    5   may       226         1     -1         0  unknown  no  "
      ]
     },
     "execution_count": 65,
     "metadata": {},
     "output_type": "execute_result"
    }
   ],
   "source": [
    "df.head()"
   ]
  },
  {
   "cell_type": "code",
   "execution_count": 66,
   "id": "713ed229",
   "metadata": {},
   "outputs": [
    {
     "data": {
      "text/html": [
       "<div>\n",
       "<style scoped>\n",
       "    .dataframe tbody tr th:only-of-type {\n",
       "        vertical-align: middle;\n",
       "    }\n",
       "\n",
       "    .dataframe tbody tr th {\n",
       "        vertical-align: top;\n",
       "    }\n",
       "\n",
       "    .dataframe thead th {\n",
       "        text-align: right;\n",
       "    }\n",
       "</style>\n",
       "<table border=\"1\" class=\"dataframe\">\n",
       "  <thead>\n",
       "    <tr style=\"text-align: right;\">\n",
       "      <th></th>\n",
       "      <th>age</th>\n",
       "      <th>job</th>\n",
       "      <th>marital</th>\n",
       "      <th>education</th>\n",
       "      <th>default</th>\n",
       "      <th>balance</th>\n",
       "      <th>housing</th>\n",
       "      <th>loan</th>\n",
       "      <th>contact</th>\n",
       "      <th>day</th>\n",
       "      <th>month</th>\n",
       "      <th>duration</th>\n",
       "      <th>campaign</th>\n",
       "      <th>pdays</th>\n",
       "      <th>previous</th>\n",
       "      <th>poutcome</th>\n",
       "      <th>y</th>\n",
       "    </tr>\n",
       "  </thead>\n",
       "  <tbody>\n",
       "    <tr>\n",
       "      <th>4516</th>\n",
       "      <td>33</td>\n",
       "      <td>services</td>\n",
       "      <td>married</td>\n",
       "      <td>secondary</td>\n",
       "      <td>no</td>\n",
       "      <td>-333</td>\n",
       "      <td>yes</td>\n",
       "      <td>no</td>\n",
       "      <td>cellular</td>\n",
       "      <td>30</td>\n",
       "      <td>jul</td>\n",
       "      <td>329</td>\n",
       "      <td>5</td>\n",
       "      <td>-1</td>\n",
       "      <td>0</td>\n",
       "      <td>unknown</td>\n",
       "      <td>no</td>\n",
       "    </tr>\n",
       "    <tr>\n",
       "      <th>4517</th>\n",
       "      <td>57</td>\n",
       "      <td>self-employed</td>\n",
       "      <td>married</td>\n",
       "      <td>tertiary</td>\n",
       "      <td>yes</td>\n",
       "      <td>-3313</td>\n",
       "      <td>yes</td>\n",
       "      <td>yes</td>\n",
       "      <td>unknown</td>\n",
       "      <td>9</td>\n",
       "      <td>may</td>\n",
       "      <td>153</td>\n",
       "      <td>1</td>\n",
       "      <td>-1</td>\n",
       "      <td>0</td>\n",
       "      <td>unknown</td>\n",
       "      <td>no</td>\n",
       "    </tr>\n",
       "    <tr>\n",
       "      <th>4518</th>\n",
       "      <td>57</td>\n",
       "      <td>technician</td>\n",
       "      <td>married</td>\n",
       "      <td>secondary</td>\n",
       "      <td>no</td>\n",
       "      <td>295</td>\n",
       "      <td>no</td>\n",
       "      <td>no</td>\n",
       "      <td>cellular</td>\n",
       "      <td>19</td>\n",
       "      <td>aug</td>\n",
       "      <td>151</td>\n",
       "      <td>11</td>\n",
       "      <td>-1</td>\n",
       "      <td>0</td>\n",
       "      <td>unknown</td>\n",
       "      <td>no</td>\n",
       "    </tr>\n",
       "    <tr>\n",
       "      <th>4519</th>\n",
       "      <td>28</td>\n",
       "      <td>blue-collar</td>\n",
       "      <td>married</td>\n",
       "      <td>secondary</td>\n",
       "      <td>no</td>\n",
       "      <td>1137</td>\n",
       "      <td>no</td>\n",
       "      <td>no</td>\n",
       "      <td>cellular</td>\n",
       "      <td>6</td>\n",
       "      <td>feb</td>\n",
       "      <td>129</td>\n",
       "      <td>4</td>\n",
       "      <td>211</td>\n",
       "      <td>3</td>\n",
       "      <td>other</td>\n",
       "      <td>no</td>\n",
       "    </tr>\n",
       "    <tr>\n",
       "      <th>4520</th>\n",
       "      <td>44</td>\n",
       "      <td>entrepreneur</td>\n",
       "      <td>single</td>\n",
       "      <td>tertiary</td>\n",
       "      <td>no</td>\n",
       "      <td>1136</td>\n",
       "      <td>yes</td>\n",
       "      <td>yes</td>\n",
       "      <td>cellular</td>\n",
       "      <td>3</td>\n",
       "      <td>apr</td>\n",
       "      <td>345</td>\n",
       "      <td>2</td>\n",
       "      <td>249</td>\n",
       "      <td>7</td>\n",
       "      <td>other</td>\n",
       "      <td>no</td>\n",
       "    </tr>\n",
       "  </tbody>\n",
       "</table>\n",
       "</div>"
      ],
      "text/plain": [
       "      age            job  marital  education default  balance housing loan  \\\n",
       "4516   33       services  married  secondary      no     -333     yes   no   \n",
       "4517   57  self-employed  married   tertiary     yes    -3313     yes  yes   \n",
       "4518   57     technician  married  secondary      no      295      no   no   \n",
       "4519   28    blue-collar  married  secondary      no     1137      no   no   \n",
       "4520   44   entrepreneur   single   tertiary      no     1136     yes  yes   \n",
       "\n",
       "       contact  day month  duration  campaign  pdays  previous poutcome   y  \n",
       "4516  cellular   30   jul       329         5     -1         0  unknown  no  \n",
       "4517   unknown    9   may       153         1     -1         0  unknown  no  \n",
       "4518  cellular   19   aug       151        11     -1         0  unknown  no  \n",
       "4519  cellular    6   feb       129         4    211         3    other  no  \n",
       "4520  cellular    3   apr       345         2    249         7    other  no  "
      ]
     },
     "execution_count": 66,
     "metadata": {},
     "output_type": "execute_result"
    }
   ],
   "source": [
    "df.tail()"
   ]
  },
  {
   "cell_type": "code",
   "execution_count": 6,
   "id": "29a80ffe",
   "metadata": {},
   "outputs": [
    {
     "data": {
      "text/plain": [
       "Index(['age', 'job', 'marital', 'education', 'default', 'balance', 'housing',\n",
       "       'loan', 'contact', 'day', 'month', 'duration', 'campaign', 'pdays',\n",
       "       'previous', 'poutcome', 'y'],\n",
       "      dtype='object')"
      ]
     },
     "execution_count": 6,
     "metadata": {},
     "output_type": "execute_result"
    }
   ],
   "source": [
    "df.columns"
   ]
  },
  {
   "cell_type": "code",
   "execution_count": 7,
   "id": "7e1b826e",
   "metadata": {},
   "outputs": [
    {
     "name": "stdout",
     "output_type": "stream",
     "text": [
      "<class 'pandas.core.frame.DataFrame'>\n",
      "RangeIndex: 4521 entries, 0 to 4520\n",
      "Data columns (total 17 columns):\n",
      " #   Column     Non-Null Count  Dtype \n",
      "---  ------     --------------  ----- \n",
      " 0   age        4521 non-null   int64 \n",
      " 1   job        4521 non-null   object\n",
      " 2   marital    4521 non-null   object\n",
      " 3   education  4521 non-null   object\n",
      " 4   default    4521 non-null   object\n",
      " 5   balance    4521 non-null   int64 \n",
      " 6   housing    4521 non-null   object\n",
      " 7   loan       4521 non-null   object\n",
      " 8   contact    4521 non-null   object\n",
      " 9   day        4521 non-null   int64 \n",
      " 10  month      4521 non-null   object\n",
      " 11  duration   4521 non-null   int64 \n",
      " 12  campaign   4521 non-null   int64 \n",
      " 13  pdays      4521 non-null   int64 \n",
      " 14  previous   4521 non-null   int64 \n",
      " 15  poutcome   4521 non-null   object\n",
      " 16  y          4521 non-null   object\n",
      "dtypes: int64(7), object(10)\n",
      "memory usage: 600.6+ KB\n"
     ]
    }
   ],
   "source": [
    "df.info()"
   ]
  },
  {
   "cell_type": "code",
   "execution_count": 8,
   "id": "8bbb300d",
   "metadata": {},
   "outputs": [
    {
     "data": {
      "text/html": [
       "<div>\n",
       "<style scoped>\n",
       "    .dataframe tbody tr th:only-of-type {\n",
       "        vertical-align: middle;\n",
       "    }\n",
       "\n",
       "    .dataframe tbody tr th {\n",
       "        vertical-align: top;\n",
       "    }\n",
       "\n",
       "    .dataframe thead th {\n",
       "        text-align: right;\n",
       "    }\n",
       "</style>\n",
       "<table border=\"1\" class=\"dataframe\">\n",
       "  <thead>\n",
       "    <tr style=\"text-align: right;\">\n",
       "      <th></th>\n",
       "      <th>age</th>\n",
       "      <th>balance</th>\n",
       "      <th>day</th>\n",
       "      <th>duration</th>\n",
       "      <th>campaign</th>\n",
       "      <th>pdays</th>\n",
       "      <th>previous</th>\n",
       "    </tr>\n",
       "  </thead>\n",
       "  <tbody>\n",
       "    <tr>\n",
       "      <th>count</th>\n",
       "      <td>4521.000000</td>\n",
       "      <td>4521.000000</td>\n",
       "      <td>4521.000000</td>\n",
       "      <td>4521.000000</td>\n",
       "      <td>4521.000000</td>\n",
       "      <td>4521.000000</td>\n",
       "      <td>4521.000000</td>\n",
       "    </tr>\n",
       "    <tr>\n",
       "      <th>mean</th>\n",
       "      <td>41.170095</td>\n",
       "      <td>1422.657819</td>\n",
       "      <td>15.915284</td>\n",
       "      <td>263.961292</td>\n",
       "      <td>2.793630</td>\n",
       "      <td>39.766645</td>\n",
       "      <td>0.542579</td>\n",
       "    </tr>\n",
       "    <tr>\n",
       "      <th>std</th>\n",
       "      <td>10.576211</td>\n",
       "      <td>3009.638142</td>\n",
       "      <td>8.247667</td>\n",
       "      <td>259.856633</td>\n",
       "      <td>3.109807</td>\n",
       "      <td>100.121124</td>\n",
       "      <td>1.693562</td>\n",
       "    </tr>\n",
       "    <tr>\n",
       "      <th>min</th>\n",
       "      <td>19.000000</td>\n",
       "      <td>-3313.000000</td>\n",
       "      <td>1.000000</td>\n",
       "      <td>4.000000</td>\n",
       "      <td>1.000000</td>\n",
       "      <td>-1.000000</td>\n",
       "      <td>0.000000</td>\n",
       "    </tr>\n",
       "    <tr>\n",
       "      <th>25%</th>\n",
       "      <td>33.000000</td>\n",
       "      <td>69.000000</td>\n",
       "      <td>9.000000</td>\n",
       "      <td>104.000000</td>\n",
       "      <td>1.000000</td>\n",
       "      <td>-1.000000</td>\n",
       "      <td>0.000000</td>\n",
       "    </tr>\n",
       "    <tr>\n",
       "      <th>50%</th>\n",
       "      <td>39.000000</td>\n",
       "      <td>444.000000</td>\n",
       "      <td>16.000000</td>\n",
       "      <td>185.000000</td>\n",
       "      <td>2.000000</td>\n",
       "      <td>-1.000000</td>\n",
       "      <td>0.000000</td>\n",
       "    </tr>\n",
       "    <tr>\n",
       "      <th>75%</th>\n",
       "      <td>49.000000</td>\n",
       "      <td>1480.000000</td>\n",
       "      <td>21.000000</td>\n",
       "      <td>329.000000</td>\n",
       "      <td>3.000000</td>\n",
       "      <td>-1.000000</td>\n",
       "      <td>0.000000</td>\n",
       "    </tr>\n",
       "    <tr>\n",
       "      <th>max</th>\n",
       "      <td>87.000000</td>\n",
       "      <td>71188.000000</td>\n",
       "      <td>31.000000</td>\n",
       "      <td>3025.000000</td>\n",
       "      <td>50.000000</td>\n",
       "      <td>871.000000</td>\n",
       "      <td>25.000000</td>\n",
       "    </tr>\n",
       "  </tbody>\n",
       "</table>\n",
       "</div>"
      ],
      "text/plain": [
       "               age       balance          day     duration     campaign  \\\n",
       "count  4521.000000   4521.000000  4521.000000  4521.000000  4521.000000   \n",
       "mean     41.170095   1422.657819    15.915284   263.961292     2.793630   \n",
       "std      10.576211   3009.638142     8.247667   259.856633     3.109807   \n",
       "min      19.000000  -3313.000000     1.000000     4.000000     1.000000   \n",
       "25%      33.000000     69.000000     9.000000   104.000000     1.000000   \n",
       "50%      39.000000    444.000000    16.000000   185.000000     2.000000   \n",
       "75%      49.000000   1480.000000    21.000000   329.000000     3.000000   \n",
       "max      87.000000  71188.000000    31.000000  3025.000000    50.000000   \n",
       "\n",
       "             pdays     previous  \n",
       "count  4521.000000  4521.000000  \n",
       "mean     39.766645     0.542579  \n",
       "std     100.121124     1.693562  \n",
       "min      -1.000000     0.000000  \n",
       "25%      -1.000000     0.000000  \n",
       "50%      -1.000000     0.000000  \n",
       "75%      -1.000000     0.000000  \n",
       "max     871.000000    25.000000  "
      ]
     },
     "execution_count": 8,
     "metadata": {},
     "output_type": "execute_result"
    }
   ],
   "source": [
    "df.describe()"
   ]
  },
  {
   "cell_type": "code",
   "execution_count": 9,
   "id": "f39bd9a3",
   "metadata": {},
   "outputs": [
    {
     "data": {
      "text/plain": [
       "0"
      ]
     },
     "execution_count": 9,
     "metadata": {},
     "output_type": "execute_result"
    }
   ],
   "source": [
    "df.isnull().any().sum() #no null values"
   ]
  },
  {
   "cell_type": "code",
   "execution_count": 10,
   "id": "51665932",
   "metadata": {},
   "outputs": [
    {
     "data": {
      "text/plain": [
       "False"
      ]
     },
     "execution_count": 10,
     "metadata": {},
     "output_type": "execute_result"
    }
   ],
   "source": [
    "df.duplicated().any() #no duplicates"
   ]
  },
  {
   "cell_type": "code",
   "execution_count": 11,
   "id": "04638dfd",
   "metadata": {},
   "outputs": [
    {
     "data": {
      "text/plain": [
       "no     4000\n",
       "yes     521\n",
       "Name: y, dtype: int64"
      ]
     },
     "execution_count": 11,
     "metadata": {},
     "output_type": "execute_result"
    }
   ],
   "source": [
    "#checking of for the balance of data\n",
    "df['y'].value_counts() #Imabalanced of data"
   ]
  },
  {
   "cell_type": "code",
   "execution_count": 12,
   "id": "69ebf229",
   "metadata": {},
   "outputs": [
    {
     "data": {
      "text/plain": [
       "management       969\n",
       "blue-collar      946\n",
       "technician       768\n",
       "admin.           478\n",
       "services         417\n",
       "retired          230\n",
       "self-employed    183\n",
       "entrepreneur     168\n",
       "unemployed       128\n",
       "housemaid        112\n",
       "student           84\n",
       "unknown           38\n",
       "Name: job, dtype: int64"
      ]
     },
     "execution_count": 12,
     "metadata": {},
     "output_type": "execute_result"
    }
   ],
   "source": [
    "df.job.value_counts()"
   ]
  },
  {
   "cell_type": "code",
   "execution_count": 13,
   "id": "bf193af4",
   "metadata": {},
   "outputs": [
    {
     "data": {
      "text/plain": [
       "married     2797\n",
       "single      1196\n",
       "divorced     528\n",
       "Name: marital, dtype: int64"
      ]
     },
     "execution_count": 13,
     "metadata": {},
     "output_type": "execute_result"
    }
   ],
   "source": [
    "df.marital.value_counts()"
   ]
  },
  {
   "cell_type": "code",
   "execution_count": 14,
   "id": "2664320d",
   "metadata": {},
   "outputs": [
    {
     "data": {
      "text/plain": [
       "secondary    2306\n",
       "tertiary     1350\n",
       "primary       678\n",
       "unknown       187\n",
       "Name: education, dtype: int64"
      ]
     },
     "execution_count": 14,
     "metadata": {},
     "output_type": "execute_result"
    }
   ],
   "source": [
    "df.education.value_counts()"
   ]
  },
  {
   "cell_type": "code",
   "execution_count": 15,
   "id": "6121568a",
   "metadata": {},
   "outputs": [
    {
     "data": {
      "text/plain": [
       "no     4445\n",
       "yes      76\n",
       "Name: default, dtype: int64"
      ]
     },
     "execution_count": 15,
     "metadata": {},
     "output_type": "execute_result"
    }
   ],
   "source": [
    "df.default.value_counts()"
   ]
  },
  {
   "cell_type": "code",
   "execution_count": 16,
   "id": "aba09c37",
   "metadata": {},
   "outputs": [
    {
     "data": {
      "text/plain": [
       "yes    2559\n",
       "no     1962\n",
       "Name: housing, dtype: int64"
      ]
     },
     "execution_count": 16,
     "metadata": {},
     "output_type": "execute_result"
    }
   ],
   "source": [
    "df.housing.value_counts()"
   ]
  },
  {
   "cell_type": "code",
   "execution_count": 17,
   "id": "f2f2d2ea",
   "metadata": {},
   "outputs": [
    {
     "data": {
      "text/plain": [
       "no     3830\n",
       "yes     691\n",
       "Name: loan, dtype: int64"
      ]
     },
     "execution_count": 17,
     "metadata": {},
     "output_type": "execute_result"
    }
   ],
   "source": [
    "df.loan.value_counts()"
   ]
  },
  {
   "cell_type": "code",
   "execution_count": 18,
   "id": "d025902a",
   "metadata": {},
   "outputs": [
    {
     "data": {
      "text/plain": [
       "cellular     2896\n",
       "unknown      1324\n",
       "telephone     301\n",
       "Name: contact, dtype: int64"
      ]
     },
     "execution_count": 18,
     "metadata": {},
     "output_type": "execute_result"
    }
   ],
   "source": [
    "df.contact.value_counts()"
   ]
  },
  {
   "cell_type": "code",
   "execution_count": 19,
   "id": "eb92580c",
   "metadata": {},
   "outputs": [
    {
     "data": {
      "text/plain": [
       "unknown    3705\n",
       "failure     490\n",
       "other       197\n",
       "success     129\n",
       "Name: poutcome, dtype: int64"
      ]
     },
     "execution_count": 19,
     "metadata": {},
     "output_type": "execute_result"
    }
   ],
   "source": [
    "df.poutcome.value_counts()"
   ]
  },
  {
   "cell_type": "code",
   "execution_count": 21,
   "id": "6e4297b1",
   "metadata": {},
   "outputs": [
    {
     "data": {
      "image/png": "[encoded data removed]",
      "text/plain": [
       "<Figure size 640x480 with 1 Axes>"
      ]
     },
     "metadata": {},
     "output_type": "display_data"
    },
    {
     "data": {
      "image/png": "[encoded data removed]",
      "text/plain": [
       "<Figure size 640x480 with 1 Axes>"
      ]
     },
     "metadata": {},
     "output_type": "display_data"
    },
    {
     "data": {
      "image/png": "[encoded data removed]",
      "text/plain": [
       "<Figure size 640x480 with 1 Axes>"
      ]
     },
     "metadata": {},
     "output_type": "display_data"
    },
    {
     "data": {
      "image/png": "[encoded data removed]",
      "text/plain": [
       "<Figure size 640x480 with 1 Axes>"
      ]
     },
     "metadata": {},
     "output_type": "display_data"
    },
    {
     "data": {
      "image/png": "[encoded data removed]",
      "text/plain": [
       "<Figure size 640x480 with 1 Axes>"
      ]
     },
     "metadata": {},
     "output_type": "display_data"
    },
    {
     "data": {
      "image/png": "[encoded data removed]",
      "text/plain": [
       "<Figure size 640x480 with 1 Axes>"
      ]
     },
     "metadata": {},
     "output_type": "display_data"
    },
    {
     "data": {
      "image/png": "[encoded data removed]",
      "text/plain": [
       "<Figure size 640x480 with 1 Axes>"
      ]
     },
     "metadata": {},
     "output_type": "display_data"
    },
    {
     "data": {
      "image/png": "[encoded data removed]",
      "text/plain": [
       "<Figure size 640x480 with 1 Axes>"
      ]
     },
     "metadata": {},
     "output_type": "display_data"
    },
    {
     "data": {
      "image/png": "[encoded data removed]",
      "text/plain": [
       "<Figure size 640x480 with 1 Axes>"
      ]
     },
     "metadata": {},
     "output_type": "display_data"
    },
    {
     "data": {
      "image/png": "[encoded data removed]",
      "text/plain": [
       "<Figure size 640x480 with 1 Axes>"
      ]
     },
     "metadata": {},
     "output_type": "display_data"
    }
   ],
   "source": [
    "#EDA \n",
    "cat_val = df.iloc[:,[1,2,3,4,6,7,8,10,15,16]]\n",
    "\n",
    "for i, col in enumerate(cat_val.columns):\n",
    "    plt.figure(i)\n",
    "    sns.countplot(cat_val[col])\n",
    "    plt.xticks(rotation=90)\n"
   ]
  },
  {
   "cell_type": "code",
   "execution_count": 22,
   "id": "a5d9771c",
   "metadata": {},
   "outputs": [
    {
     "data": {
      "image/png": "[encoded data removed]",
      "text/plain": [
       "<Figure size 640x480 with 1 Axes>"
      ]
     },
     "metadata": {},
     "output_type": "display_data"
    },
    {
     "data": {
      "image/png": "[encoded data removed]",
      "text/plain": [
       "<Figure size 640x480 with 1 Axes>"
      ]
     },
     "metadata": {},
     "output_type": "display_data"
    },
    {
     "data": {
      "image/png": "[encoded data removed]",
      "text/plain": [
       "<Figure size 640x480 with 1 Axes>"
      ]
     },
     "metadata": {},
     "output_type": "display_data"
    },
    {
     "data": {
      "image/png": "[encoded data removed]",
      "text/plain": [
       "<Figure size 640x480 with 1 Axes>"
      ]
     },
     "metadata": {},
     "output_type": "display_data"
    },
    {
     "data": {
      "image/png": "[encoded data removed]",
      "text/plain": [
       "<Figure size 640x480 with 1 Axes>"
      ]
     },
     "metadata": {},
     "output_type": "display_data"
    },
    {
     "data": {
      "image/png": "[encoded data removed]",
      "text/plain": [
       "<Figure size 640x480 with 1 Axes>"
      ]
     },
     "metadata": {},
     "output_type": "display_data"
    },
    {
     "data": {
      "image/png": "[encoded data removed]",
      "text/plain": [
       "<Figure size 640x480 with 1 Axes>"
      ]
     },
     "metadata": {},
     "output_type": "display_data"
    }
   ],
   "source": [
    "df_num = df.iloc[:,[0,5,9,11,12,13,14]]\n",
    "for i, col in enumerate(df_num.columns):\n",
    "    plt.figure(i)\n",
    "    sns.distplot(df_num[col])\n"
   ]
  },
  {
   "cell_type": "code",
   "execution_count": 24,
   "id": "6dd4299e",
   "metadata": {},
   "outputs": [],
   "source": [
    "#creating label encoder\n",
    "labelencoder =  LabelEncoder()"
   ]
  },
  {
   "cell_type": "code",
   "execution_count": 25,
   "id": "5d13875e",
   "metadata": {},
   "outputs": [],
   "source": [
    "cat_val = df.iloc[:,[1,2,3,4,6,7,8,10,15,16]]"
   ]
  },
  {
   "cell_type": "code",
   "execution_count": 26,
   "id": "e836365a",
   "metadata": {},
   "outputs": [],
   "source": [
    "cat_val['job']=labelencoder.fit_transform(cat_val['job'])\n",
    "cat_val['marital']=labelencoder.fit_transform(cat_val['marital'])\n",
    "cat_val['education']=labelencoder.fit_transform(cat_val['education'])\n",
    "cat_val['default']=labelencoder.fit_transform(cat_val['default'])\n",
    "cat_val['housing']=labelencoder.fit_transform(cat_val['housing'])\n",
    "cat_val['loan']=labelencoder.fit_transform(cat_val['loan'])\n",
    "cat_val['contact']=labelencoder.fit_transform(cat_val['contact'])\n",
    "cat_val['month']=labelencoder.fit_transform(cat_val['month'])\n",
    "cat_val['poutcome']=labelencoder.fit_transform(cat_val['poutcome'])\n",
    "cat_val['y']=labelencoder.fit_transform(cat_val['y'])\n"
   ]
  },
  {
   "cell_type": "code",
   "execution_count": 27,
   "id": "a1f19445",
   "metadata": {},
   "outputs": [],
   "source": [
    "df1 = pd.concat([df_num, cat_val], axis = 1)"
   ]
  },
  {
   "cell_type": "code",
   "execution_count": 28,
   "id": "941d751a",
   "metadata": {},
   "outputs": [
    {
     "data": {
      "text/html": [
       "<div>\n",
       "<style scoped>\n",
       "    .dataframe tbody tr th:only-of-type {\n",
       "        vertical-align: middle;\n",
       "    }\n",
       "\n",
       "    .dataframe tbody tr th {\n",
       "        vertical-align: top;\n",
       "    }\n",
       "\n",
       "    .dataframe thead th {\n",
       "        text-align: right;\n",
       "    }\n",
       "</style>\n",
       "<table border=\"1\" class=\"dataframe\">\n",
       "  <thead>\n",
       "    <tr style=\"text-align: right;\">\n",
       "      <th></th>\n",
       "      <th>age</th>\n",
       "      <th>balance</th>\n",
       "      <th>day</th>\n",
       "      <th>duration</th>\n",
       "      <th>campaign</th>\n",
       "      <th>pdays</th>\n",
       "      <th>previous</th>\n",
       "      <th>job</th>\n",
       "      <th>marital</th>\n",
       "      <th>education</th>\n",
       "      <th>default</th>\n",
       "      <th>housing</th>\n",
       "      <th>loan</th>\n",
       "      <th>contact</th>\n",
       "      <th>month</th>\n",
       "      <th>poutcome</th>\n",
       "      <th>y</th>\n",
       "    </tr>\n",
       "  </thead>\n",
       "  <tbody>\n",
       "    <tr>\n",
       "      <th>0</th>\n",
       "      <td>30</td>\n",
       "      <td>1787</td>\n",
       "      <td>19</td>\n",
       "      <td>79</td>\n",
       "      <td>1</td>\n",
       "      <td>-1</td>\n",
       "      <td>0</td>\n",
       "      <td>10</td>\n",
       "      <td>1</td>\n",
       "      <td>0</td>\n",
       "      <td>0</td>\n",
       "      <td>0</td>\n",
       "      <td>0</td>\n",
       "      <td>0</td>\n",
       "      <td>10</td>\n",
       "      <td>3</td>\n",
       "      <td>0</td>\n",
       "    </tr>\n",
       "    <tr>\n",
       "      <th>1</th>\n",
       "      <td>33</td>\n",
       "      <td>4789</td>\n",
       "      <td>11</td>\n",
       "      <td>220</td>\n",
       "      <td>1</td>\n",
       "      <td>339</td>\n",
       "      <td>4</td>\n",
       "      <td>7</td>\n",
       "      <td>1</td>\n",
       "      <td>1</td>\n",
       "      <td>0</td>\n",
       "      <td>1</td>\n",
       "      <td>1</td>\n",
       "      <td>0</td>\n",
       "      <td>8</td>\n",
       "      <td>0</td>\n",
       "      <td>0</td>\n",
       "    </tr>\n",
       "    <tr>\n",
       "      <th>2</th>\n",
       "      <td>35</td>\n",
       "      <td>1350</td>\n",
       "      <td>16</td>\n",
       "      <td>185</td>\n",
       "      <td>1</td>\n",
       "      <td>330</td>\n",
       "      <td>1</td>\n",
       "      <td>4</td>\n",
       "      <td>2</td>\n",
       "      <td>2</td>\n",
       "      <td>0</td>\n",
       "      <td>1</td>\n",
       "      <td>0</td>\n",
       "      <td>0</td>\n",
       "      <td>0</td>\n",
       "      <td>0</td>\n",
       "      <td>0</td>\n",
       "    </tr>\n",
       "    <tr>\n",
       "      <th>3</th>\n",
       "      <td>30</td>\n",
       "      <td>1476</td>\n",
       "      <td>3</td>\n",
       "      <td>199</td>\n",
       "      <td>4</td>\n",
       "      <td>-1</td>\n",
       "      <td>0</td>\n",
       "      <td>4</td>\n",
       "      <td>1</td>\n",
       "      <td>2</td>\n",
       "      <td>0</td>\n",
       "      <td>1</td>\n",
       "      <td>1</td>\n",
       "      <td>2</td>\n",
       "      <td>6</td>\n",
       "      <td>3</td>\n",
       "      <td>0</td>\n",
       "    </tr>\n",
       "    <tr>\n",
       "      <th>4</th>\n",
       "      <td>59</td>\n",
       "      <td>0</td>\n",
       "      <td>5</td>\n",
       "      <td>226</td>\n",
       "      <td>1</td>\n",
       "      <td>-1</td>\n",
       "      <td>0</td>\n",
       "      <td>1</td>\n",
       "      <td>1</td>\n",
       "      <td>1</td>\n",
       "      <td>0</td>\n",
       "      <td>1</td>\n",
       "      <td>0</td>\n",
       "      <td>2</td>\n",
       "      <td>8</td>\n",
       "      <td>3</td>\n",
       "      <td>0</td>\n",
       "    </tr>\n",
       "    <tr>\n",
       "      <th>...</th>\n",
       "      <td>...</td>\n",
       "      <td>...</td>\n",
       "      <td>...</td>\n",
       "      <td>...</td>\n",
       "      <td>...</td>\n",
       "      <td>...</td>\n",
       "      <td>...</td>\n",
       "      <td>...</td>\n",
       "      <td>...</td>\n",
       "      <td>...</td>\n",
       "      <td>...</td>\n",
       "      <td>...</td>\n",
       "      <td>...</td>\n",
       "      <td>...</td>\n",
       "      <td>...</td>\n",
       "      <td>...</td>\n",
       "      <td>...</td>\n",
       "    </tr>\n",
       "    <tr>\n",
       "      <th>4516</th>\n",
       "      <td>33</td>\n",
       "      <td>-333</td>\n",
       "      <td>30</td>\n",
       "      <td>329</td>\n",
       "      <td>5</td>\n",
       "      <td>-1</td>\n",
       "      <td>0</td>\n",
       "      <td>7</td>\n",
       "      <td>1</td>\n",
       "      <td>1</td>\n",
       "      <td>0</td>\n",
       "      <td>1</td>\n",
       "      <td>0</td>\n",
       "      <td>0</td>\n",
       "      <td>5</td>\n",
       "      <td>3</td>\n",
       "      <td>0</td>\n",
       "    </tr>\n",
       "    <tr>\n",
       "      <th>4517</th>\n",
       "      <td>57</td>\n",
       "      <td>-3313</td>\n",
       "      <td>9</td>\n",
       "      <td>153</td>\n",
       "      <td>1</td>\n",
       "      <td>-1</td>\n",
       "      <td>0</td>\n",
       "      <td>6</td>\n",
       "      <td>1</td>\n",
       "      <td>2</td>\n",
       "      <td>1</td>\n",
       "      <td>1</td>\n",
       "      <td>1</td>\n",
       "      <td>2</td>\n",
       "      <td>8</td>\n",
       "      <td>3</td>\n",
       "      <td>0</td>\n",
       "    </tr>\n",
       "    <tr>\n",
       "      <th>4518</th>\n",
       "      <td>57</td>\n",
       "      <td>295</td>\n",
       "      <td>19</td>\n",
       "      <td>151</td>\n",
       "      <td>11</td>\n",
       "      <td>-1</td>\n",
       "      <td>0</td>\n",
       "      <td>9</td>\n",
       "      <td>1</td>\n",
       "      <td>1</td>\n",
       "      <td>0</td>\n",
       "      <td>0</td>\n",
       "      <td>0</td>\n",
       "      <td>0</td>\n",
       "      <td>1</td>\n",
       "      <td>3</td>\n",
       "      <td>0</td>\n",
       "    </tr>\n",
       "    <tr>\n",
       "      <th>4519</th>\n",
       "      <td>28</td>\n",
       "      <td>1137</td>\n",
       "      <td>6</td>\n",
       "      <td>129</td>\n",
       "      <td>4</td>\n",
       "      <td>211</td>\n",
       "      <td>3</td>\n",
       "      <td>1</td>\n",
       "      <td>1</td>\n",
       "      <td>1</td>\n",
       "      <td>0</td>\n",
       "      <td>0</td>\n",
       "      <td>0</td>\n",
       "      <td>0</td>\n",
       "      <td>3</td>\n",
       "      <td>1</td>\n",
       "      <td>0</td>\n",
       "    </tr>\n",
       "    <tr>\n",
       "      <th>4520</th>\n",
       "      <td>44</td>\n",
       "      <td>1136</td>\n",
       "      <td>3</td>\n",
       "      <td>345</td>\n",
       "      <td>2</td>\n",
       "      <td>249</td>\n",
       "      <td>7</td>\n",
       "      <td>2</td>\n",
       "      <td>2</td>\n",
       "      <td>2</td>\n",
       "      <td>0</td>\n",
       "      <td>1</td>\n",
       "      <td>1</td>\n",
       "      <td>0</td>\n",
       "      <td>0</td>\n",
       "      <td>1</td>\n",
       "      <td>0</td>\n",
       "    </tr>\n",
       "  </tbody>\n",
       "</table>\n",
       "<p>4521 rows × 17 columns</p>\n",
       "</div>"
      ],
      "text/plain": [
       "      age  balance  day  duration  campaign  pdays  previous  job  marital  \\\n",
       "0      30     1787   19        79         1     -1         0   10        1   \n",
       "1      33     4789   11       220         1    339         4    7        1   \n",
       "2      35     1350   16       185         1    330         1    4        2   \n",
       "3      30     1476    3       199         4     -1         0    4        1   \n",
       "4      59        0    5       226         1     -1         0    1        1   \n",
       "...   ...      ...  ...       ...       ...    ...       ...  ...      ...   \n",
       "4516   33     -333   30       329         5     -1         0    7        1   \n",
       "4517   57    -3313    9       153         1     -1         0    6        1   \n",
       "4518   57      295   19       151        11     -1         0    9        1   \n",
       "4519   28     1137    6       129         4    211         3    1        1   \n",
       "4520   44     1136    3       345         2    249         7    2        2   \n",
       "\n",
       "      education  default  housing  loan  contact  month  poutcome  y  \n",
       "0             0        0        0     0        0     10         3  0  \n",
       "1             1        0        1     1        0      8         0  0  \n",
       "2             2        0        1     0        0      0         0  0  \n",
       "3             2        0        1     1        2      6         3  0  \n",
       "4             1        0        1     0        2      8         3  0  \n",
       "...         ...      ...      ...   ...      ...    ...       ... ..  \n",
       "4516          1        0        1     0        0      5         3  0  \n",
       "4517          2        1        1     1        2      8         3  0  \n",
       "4518          1        0        0     0        0      1         3  0  \n",
       "4519          1        0        0     0        0      3         1  0  \n",
       "4520          2        0        1     1        0      0         1  0  \n",
       "\n",
       "[4521 rows x 17 columns]"
      ]
     },
     "execution_count": 28,
     "metadata": {},
     "output_type": "execute_result"
    }
   ],
   "source": [
    "df1"
   ]
  },
  {
   "cell_type": "code",
   "execution_count": 67,
   "id": "6b1fa77f",
   "metadata": {},
   "outputs": [
    {
     "data": {
      "text/plain": [
       "<AxesSubplot:>"
      ]
     },
     "execution_count": 67,
     "metadata": {},
     "output_type": "execute_result"
    },
    {
     "data": {
      "image/png": "[encoded data removed]",
      "text/plain": [
       "<Figure size 640x480 with 2 Axes>"
      ]
     },
     "metadata": {},
     "output_type": "display_data"
    }
   ],
   "source": [
    "sns.heatmap(df1.corr())"
   ]
  },
  {
   "cell_type": "code",
   "execution_count": 29,
   "id": "829a2bac",
   "metadata": {},
   "outputs": [],
   "source": [
    "#Its highly imbalanced data so lets use SMOTE technique to balance the data"
   ]
  },
  {
   "cell_type": "code",
   "execution_count": 30,
   "id": "8662653c",
   "metadata": {},
   "outputs": [],
   "source": [
    "X =df1.drop(\"y\", axis = 1)\n",
    "y = df1[\"y\"]"
   ]
  },
  {
   "cell_type": "code",
   "execution_count": 31,
   "id": "20b30625",
   "metadata": {},
   "outputs": [],
   "source": [
    "smt = SMOTETomek(sampling_strategy = \"not majority\", random_state=100)\n",
    "X1, y1 = smt.fit_resample(X, y)"
   ]
  },
  {
   "cell_type": "code",
   "execution_count": 32,
   "id": "4f91a9ee",
   "metadata": {},
   "outputs": [
    {
     "data": {
      "text/plain": [
       "((7748, 16), (7748,))"
      ]
     },
     "execution_count": 32,
     "metadata": {},
     "output_type": "execute_result"
    }
   ],
   "source": [
    "X1.shape , y1.shape"
   ]
  },
  {
   "cell_type": "code",
   "execution_count": 33,
   "id": "1987551f",
   "metadata": {},
   "outputs": [],
   "source": [
    "#standarization   #mean=0 , std=1\n",
    "def norm_func(i):\n",
    "    x = (i-i.mean())/(i.std()) \n",
    "    return(x)\n",
    "df2 = norm_func(X1)"
   ]
  },
  {
   "cell_type": "code",
   "execution_count": 34,
   "id": "225542f1",
   "metadata": {},
   "outputs": [],
   "source": [
    "final = pd.concat([df2,y1], axis = 1)"
   ]
  },
  {
   "cell_type": "code",
   "execution_count": 35,
   "id": "d07c93c2",
   "metadata": {},
   "outputs": [
    {
     "data": {
      "text/html": [
       "<div>\n",
       "<style scoped>\n",
       "    .dataframe tbody tr th:only-of-type {\n",
       "        vertical-align: middle;\n",
       "    }\n",
       "\n",
       "    .dataframe tbody tr th {\n",
       "        vertical-align: top;\n",
       "    }\n",
       "\n",
       "    .dataframe thead th {\n",
       "        text-align: right;\n",
       "    }\n",
       "</style>\n",
       "<table border=\"1\" class=\"dataframe\">\n",
       "  <thead>\n",
       "    <tr style=\"text-align: right;\">\n",
       "      <th></th>\n",
       "      <th>age</th>\n",
       "      <th>balance</th>\n",
       "      <th>day</th>\n",
       "      <th>duration</th>\n",
       "      <th>campaign</th>\n",
       "      <th>pdays</th>\n",
       "      <th>previous</th>\n",
       "      <th>job</th>\n",
       "      <th>marital</th>\n",
       "      <th>education</th>\n",
       "      <th>default</th>\n",
       "      <th>housing</th>\n",
       "      <th>loan</th>\n",
       "      <th>contact</th>\n",
       "      <th>month</th>\n",
       "      <th>poutcome</th>\n",
       "      <th>y</th>\n",
       "    </tr>\n",
       "  </thead>\n",
       "  <tbody>\n",
       "    <tr>\n",
       "      <th>0</th>\n",
       "      <td>-1.074135</td>\n",
       "      <td>0.124214</td>\n",
       "      <td>0.422748</td>\n",
       "      <td>-0.884989</td>\n",
       "      <td>-0.549595</td>\n",
       "      <td>-0.487783</td>\n",
       "      <td>-0.398512</td>\n",
       "      <td>1.927765</td>\n",
       "      <td>-0.050335</td>\n",
       "      <td>-1.618657</td>\n",
       "      <td>-0.098192</td>\n",
       "      <td>-0.819477</td>\n",
       "      <td>-0.313642</td>\n",
       "      <td>-0.564921</td>\n",
       "      <td>1.640509</td>\n",
       "      <td>0.582795</td>\n",
       "      <td>0</td>\n",
       "    </tr>\n",
       "    <tr>\n",
       "      <th>1</th>\n",
       "      <td>-0.792707</td>\n",
       "      <td>1.242287</td>\n",
       "      <td>-0.617160</td>\n",
       "      <td>-0.486186</td>\n",
       "      <td>-0.549595</td>\n",
       "      <td>2.813377</td>\n",
       "      <td>1.973425</td>\n",
       "      <td>0.906292</td>\n",
       "      <td>-0.050335</td>\n",
       "      <td>-0.192206</td>\n",
       "      <td>-0.098192</td>\n",
       "      <td>1.220133</td>\n",
       "      <td>3.187939</td>\n",
       "      <td>-0.564921</td>\n",
       "      <td>0.957910</td>\n",
       "      <td>-2.320437</td>\n",
       "      <td>0</td>\n",
       "    </tr>\n",
       "    <tr>\n",
       "      <th>2</th>\n",
       "      <td>-0.605088</td>\n",
       "      <td>-0.038544</td>\n",
       "      <td>0.032782</td>\n",
       "      <td>-0.585180</td>\n",
       "      <td>-0.549595</td>\n",
       "      <td>2.725993</td>\n",
       "      <td>0.194472</td>\n",
       "      <td>-0.115182</td>\n",
       "      <td>1.616327</td>\n",
       "      <td>1.234244</td>\n",
       "      <td>-0.098192</td>\n",
       "      <td>1.220133</td>\n",
       "      <td>-0.313642</td>\n",
       "      <td>-0.564921</td>\n",
       "      <td>-1.772482</td>\n",
       "      <td>-2.320437</td>\n",
       "      <td>0</td>\n",
       "    </tr>\n",
       "    <tr>\n",
       "      <th>3</th>\n",
       "      <td>-1.074135</td>\n",
       "      <td>0.008384</td>\n",
       "      <td>-1.657069</td>\n",
       "      <td>-0.545582</td>\n",
       "      <td>0.592744</td>\n",
       "      <td>-0.487783</td>\n",
       "      <td>-0.398512</td>\n",
       "      <td>-0.115182</td>\n",
       "      <td>-0.050335</td>\n",
       "      <td>1.234244</td>\n",
       "      <td>-0.098192</td>\n",
       "      <td>1.220133</td>\n",
       "      <td>3.187939</td>\n",
       "      <td>2.022729</td>\n",
       "      <td>0.275312</td>\n",
       "      <td>0.582795</td>\n",
       "      <td>0</td>\n",
       "    </tr>\n",
       "    <tr>\n",
       "      <th>4</th>\n",
       "      <td>1.646339</td>\n",
       "      <td>-0.541342</td>\n",
       "      <td>-1.397092</td>\n",
       "      <td>-0.469216</td>\n",
       "      <td>-0.549595</td>\n",
       "      <td>-0.487783</td>\n",
       "      <td>-0.398512</td>\n",
       "      <td>-1.136655</td>\n",
       "      <td>-0.050335</td>\n",
       "      <td>-0.192206</td>\n",
       "      <td>-0.098192</td>\n",
       "      <td>1.220133</td>\n",
       "      <td>-0.313642</td>\n",
       "      <td>2.022729</td>\n",
       "      <td>0.957910</td>\n",
       "      <td>0.582795</td>\n",
       "      <td>0</td>\n",
       "    </tr>\n",
       "    <tr>\n",
       "      <th>...</th>\n",
       "      <td>...</td>\n",
       "      <td>...</td>\n",
       "      <td>...</td>\n",
       "      <td>...</td>\n",
       "      <td>...</td>\n",
       "      <td>...</td>\n",
       "      <td>...</td>\n",
       "      <td>...</td>\n",
       "      <td>...</td>\n",
       "      <td>...</td>\n",
       "      <td>...</td>\n",
       "      <td>...</td>\n",
       "      <td>...</td>\n",
       "      <td>...</td>\n",
       "      <td>...</td>\n",
       "      <td>...</td>\n",
       "      <td>...</td>\n",
       "    </tr>\n",
       "    <tr>\n",
       "      <th>7743</th>\n",
       "      <td>-0.886516</td>\n",
       "      <td>-0.491062</td>\n",
       "      <td>-1.267103</td>\n",
       "      <td>-0.517299</td>\n",
       "      <td>-0.549595</td>\n",
       "      <td>-0.487783</td>\n",
       "      <td>-0.398512</td>\n",
       "      <td>1.246783</td>\n",
       "      <td>-0.050335</td>\n",
       "      <td>-0.192206</td>\n",
       "      <td>-0.098192</td>\n",
       "      <td>-0.819477</td>\n",
       "      <td>-0.313642</td>\n",
       "      <td>-0.564921</td>\n",
       "      <td>0.957910</td>\n",
       "      <td>0.582795</td>\n",
       "      <td>1</td>\n",
       "    </tr>\n",
       "    <tr>\n",
       "      <th>7744</th>\n",
       "      <td>-0.136041</td>\n",
       "      <td>-0.540970</td>\n",
       "      <td>0.812714</td>\n",
       "      <td>-0.350424</td>\n",
       "      <td>-0.549595</td>\n",
       "      <td>1.619134</td>\n",
       "      <td>1.380441</td>\n",
       "      <td>0.225310</td>\n",
       "      <td>-0.050335</td>\n",
       "      <td>-0.192206</td>\n",
       "      <td>-0.098192</td>\n",
       "      <td>-0.819477</td>\n",
       "      <td>-0.313642</td>\n",
       "      <td>-0.564921</td>\n",
       "      <td>-1.089884</td>\n",
       "      <td>-1.352693</td>\n",
       "      <td>1</td>\n",
       "    </tr>\n",
       "    <tr>\n",
       "      <th>7745</th>\n",
       "      <td>-0.511278</td>\n",
       "      <td>1.364821</td>\n",
       "      <td>0.422748</td>\n",
       "      <td>-0.452246</td>\n",
       "      <td>1.354304</td>\n",
       "      <td>1.026867</td>\n",
       "      <td>1.973425</td>\n",
       "      <td>0.225310</td>\n",
       "      <td>-1.716998</td>\n",
       "      <td>1.234244</td>\n",
       "      <td>-0.098192</td>\n",
       "      <td>-0.819477</td>\n",
       "      <td>-0.313642</td>\n",
       "      <td>-0.564921</td>\n",
       "      <td>-1.089884</td>\n",
       "      <td>-2.320437</td>\n",
       "      <td>1</td>\n",
       "    </tr>\n",
       "    <tr>\n",
       "      <th>7746</th>\n",
       "      <td>-0.792707</td>\n",
       "      <td>-0.486593</td>\n",
       "      <td>-1.007126</td>\n",
       "      <td>-0.537097</td>\n",
       "      <td>-0.549595</td>\n",
       "      <td>-0.487783</td>\n",
       "      <td>-0.398512</td>\n",
       "      <td>0.225310</td>\n",
       "      <td>-1.716998</td>\n",
       "      <td>-0.192206</td>\n",
       "      <td>-0.098192</td>\n",
       "      <td>-0.819477</td>\n",
       "      <td>-0.313642</td>\n",
       "      <td>-0.564921</td>\n",
       "      <td>0.616611</td>\n",
       "      <td>0.582795</td>\n",
       "      <td>1</td>\n",
       "    </tr>\n",
       "    <tr>\n",
       "      <th>7747</th>\n",
       "      <td>-0.698897</td>\n",
       "      <td>0.898895</td>\n",
       "      <td>-1.137114</td>\n",
       "      <td>0.981746</td>\n",
       "      <td>-0.549595</td>\n",
       "      <td>2.007506</td>\n",
       "      <td>0.194472</td>\n",
       "      <td>0.225310</td>\n",
       "      <td>-0.050335</td>\n",
       "      <td>-0.192206</td>\n",
       "      <td>-0.098192</td>\n",
       "      <td>-0.819477</td>\n",
       "      <td>-0.313642</td>\n",
       "      <td>-0.564921</td>\n",
       "      <td>0.275312</td>\n",
       "      <td>-2.320437</td>\n",
       "      <td>1</td>\n",
       "    </tr>\n",
       "  </tbody>\n",
       "</table>\n",
       "<p>7748 rows × 17 columns</p>\n",
       "</div>"
      ],
      "text/plain": [
       "           age   balance       day  duration  campaign     pdays  previous  \\\n",
       "0    -1.074135  0.124214  0.422748 -0.884989 -0.549595 -0.487783 -0.398512   \n",
       "1    -0.792707  1.242287 -0.617160 -0.486186 -0.549595  2.813377  1.973425   \n",
       "2    -0.605088 -0.038544  0.032782 -0.585180 -0.549595  2.725993  0.194472   \n",
       "3    -1.074135  0.008384 -1.657069 -0.545582  0.592744 -0.487783 -0.398512   \n",
       "4     1.646339 -0.541342 -1.397092 -0.469216 -0.549595 -0.487783 -0.398512   \n",
       "...        ...       ...       ...       ...       ...       ...       ...   \n",
       "7743 -0.886516 -0.491062 -1.267103 -0.517299 -0.549595 -0.487783 -0.398512   \n",
       "7744 -0.136041 -0.540970  0.812714 -0.350424 -0.549595  1.619134  1.380441   \n",
       "7745 -0.511278  1.364821  0.422748 -0.452246  1.354304  1.026867  1.973425   \n",
       "7746 -0.792707 -0.486593 -1.007126 -0.537097 -0.549595 -0.487783 -0.398512   \n",
       "7747 -0.698897  0.898895 -1.137114  0.981746 -0.549595  2.007506  0.194472   \n",
       "\n",
       "           job   marital  education   default   housing      loan   contact  \\\n",
       "0     1.927765 -0.050335  -1.618657 -0.098192 -0.819477 -0.313642 -0.564921   \n",
       "1     0.906292 -0.050335  -0.192206 -0.098192  1.220133  3.187939 -0.564921   \n",
       "2    -0.115182  1.616327   1.234244 -0.098192  1.220133 -0.313642 -0.564921   \n",
       "3    -0.115182 -0.050335   1.234244 -0.098192  1.220133  3.187939  2.022729   \n",
       "4    -1.136655 -0.050335  -0.192206 -0.098192  1.220133 -0.313642  2.022729   \n",
       "...        ...       ...        ...       ...       ...       ...       ...   \n",
       "7743  1.246783 -0.050335  -0.192206 -0.098192 -0.819477 -0.313642 -0.564921   \n",
       "7744  0.225310 -0.050335  -0.192206 -0.098192 -0.819477 -0.313642 -0.564921   \n",
       "7745  0.225310 -1.716998   1.234244 -0.098192 -0.819477 -0.313642 -0.564921   \n",
       "7746  0.225310 -1.716998  -0.192206 -0.098192 -0.819477 -0.313642 -0.564921   \n",
       "7747  0.225310 -0.050335  -0.192206 -0.098192 -0.819477 -0.313642 -0.564921   \n",
       "\n",
       "         month  poutcome  y  \n",
       "0     1.640509  0.582795  0  \n",
       "1     0.957910 -2.320437  0  \n",
       "2    -1.772482 -2.320437  0  \n",
       "3     0.275312  0.582795  0  \n",
       "4     0.957910  0.582795  0  \n",
       "...        ...       ... ..  \n",
       "7743  0.957910  0.582795  1  \n",
       "7744 -1.089884 -1.352693  1  \n",
       "7745 -1.089884 -2.320437  1  \n",
       "7746  0.616611  0.582795  1  \n",
       "7747  0.275312 -2.320437  1  \n",
       "\n",
       "[7748 rows x 17 columns]"
      ]
     },
     "execution_count": 35,
     "metadata": {},
     "output_type": "execute_result"
    }
   ],
   "source": [
    "final"
   ]
  },
  {
   "cell_type": "code",
   "execution_count": 36,
   "id": "4202ef49",
   "metadata": {},
   "outputs": [],
   "source": [
    "X2 = final.drop([\"y\"], axis = 1)\n",
    "y2 = final['y']"
   ]
  },
  {
   "cell_type": "code",
   "execution_count": 37,
   "id": "e2622a1b",
   "metadata": {},
   "outputs": [
    {
     "data": {
      "text/plain": [
       "((7748, 16), (7748,))"
      ]
     },
     "execution_count": 37,
     "metadata": {},
     "output_type": "execute_result"
    }
   ],
   "source": [
    "X2.shape , y2.shape"
   ]
  },
  {
   "cell_type": "code",
   "execution_count": 38,
   "id": "45f8fab9",
   "metadata": {},
   "outputs": [],
   "source": [
    "#Splitting the data into test and train\n",
    "X_train, X_test, y_train, y_test = train_test_split(X2, y2, test_size=0.2)"
   ]
  },
  {
   "cell_type": "markdown",
   "id": "bf0526d1",
   "metadata": {},
   "source": [
    "## Logistic Regression "
   ]
  },
  {
   "cell_type": "code",
   "execution_count": 39,
   "id": "d5da01bb",
   "metadata": {},
   "outputs": [
    {
     "name": "stdout",
     "output_type": "stream",
     "text": [
      "Accuracy: 0.8548387096774194\n",
      "Precision: 0.8435374149659864\n",
      "Recall: 0.8493150684931506\n",
      "F1_score: 0.8435374149659864\n",
      "AUC-ROC: 0.854535583027063\n"
     ]
    }
   ],
   "source": [
    "# Fitting on  Logistic Regression model\n",
    "clf = LogisticRegression()\n",
    "clf.fit(X_train, y_train)\n",
    "# predictions on test data\n",
    "y_pred = clf.predict(X_test)\n",
    "# Evaluation metrics\n",
    "print(\"Accuracy:\", accuracy_score(y_test, y_pred))\n",
    "print(\"Precision:\", precision_score(y_test, y_pred))\n",
    "print(\"Recall:\", recall_score(y_test, y_pred))\n",
    "print(\"F1_score:\", precision_score(y_test, y_pred))\n",
    "print(\"AUC-ROC:\", roc_auc_score(y_test, y_pred))"
   ]
  },
  {
   "cell_type": "markdown",
   "id": "1982c642",
   "metadata": {},
   "source": [
    "## K Nearest Neighbours"
   ]
  },
  {
   "cell_type": "code",
   "execution_count": 40,
   "id": "8329bb00",
   "metadata": {},
   "outputs": [
    {
     "name": "stdout",
     "output_type": "stream",
     "text": [
      "Accuracy: 0.8877419354838709\n",
      "Precision: 0.8518987341772152\n",
      "Recall: 0.9219178082191781\n",
      "F1_score: 0.8518987341772152\n",
      "AUC-ROC: 0.8896174406949549\n"
     ]
    }
   ],
   "source": [
    "#Fitting on KNN\n",
    "clf1 = KNeighborsClassifier(n_neighbors=5)\n",
    "clf1.fit(X_train, y_train)\n",
    "#predictions on test data\n",
    "y_pred1 = clf1.predict(X_test)\n",
    "# Evaluation metrics\n",
    "print(\"Accuracy:\", accuracy_score(y_test, y_pred1))\n",
    "print(\"Precision:\", precision_score(y_test, y_pred1))\n",
    "print(\"Recall:\", recall_score(y_test, y_pred1))\n",
    "print(\"F1_score:\", precision_score(y_test, y_pred1))\n",
    "print(\"AUC-ROC:\", roc_auc_score(y_test, y_pred1))"
   ]
  },
  {
   "cell_type": "markdown",
   "id": "dbe7aa46",
   "metadata": {},
   "source": [
    "## Decision Tree"
   ]
  },
  {
   "cell_type": "code",
   "execution_count": 41,
   "id": "68d83979",
   "metadata": {},
   "outputs": [
    {
     "name": "stdout",
     "output_type": "stream",
     "text": [
      "Accuracy: 0.8870967741935484\n",
      "Precision: 0.8627450980392157\n",
      "Recall: 0.9041095890410958\n",
      "F1_score: 0.8627450980392157\n",
      "AUC-ROC: 0.8880304042766456\n"
     ]
    }
   ],
   "source": [
    "#Fitting on decision tree\n",
    "clf2 = DecisionTreeClassifier()\n",
    "clf2.fit(X_train, y_train)\n",
    "#predictions on test data\n",
    "y_pred2 = clf2.predict(X_test)\n",
    "# Evaluation metrics\n",
    "print(\"Accuracy:\", accuracy_score(y_test, y_pred2))\n",
    "print(\"Precision:\", precision_score(y_test, y_pred2))\n",
    "print(\"Recall:\", recall_score(y_test, y_pred2))\n",
    "print(\"F1_score:\", precision_score(y_test, y_pred2))\n",
    "print(\"AUC-ROC:\", roc_auc_score(y_test, y_pred2))"
   ]
  },
  {
   "cell_type": "markdown",
   "id": "10aa472a",
   "metadata": {},
   "source": [
    "# Random Forest Tree"
   ]
  },
  {
   "cell_type": "code",
   "execution_count": 42,
   "id": "748ffa61",
   "metadata": {},
   "outputs": [
    {
     "name": "stdout",
     "output_type": "stream",
     "text": [
      "Accuracy: 0.9329032258064516\n",
      "Precision: 0.9129287598944591\n",
      "Recall: 0.947945205479452\n",
      "F1_score: 0.9129287598944591\n",
      "AUC-ROC: 0.9337287003007017\n"
     ]
    }
   ],
   "source": [
    "#Fitting on random forest tree\n",
    "clf3 = RandomForestClassifier(n_estimators=100)\n",
    "clf3.fit(X_train, y_train)\n",
    "#predictions on test data\n",
    "y_pred3 = clf3.predict(X_test)\n",
    "# Evaluation metrics\n",
    "print(\"Accuracy:\", accuracy_score(y_test, y_pred3))\n",
    "print(\"Precision:\", precision_score(y_test, y_pred3))\n",
    "print(\"Recall:\", recall_score(y_test, y_pred3))\n",
    "print(\"F1_score:\", precision_score(y_test, y_pred3))\n",
    "print(\"AUC-ROC:\", roc_auc_score(y_test, y_pred3))"
   ]
  },
  {
   "cell_type": "markdown",
   "id": "cb92ad69",
   "metadata": {},
   "source": [
    "# Support vector machine"
   ]
  },
  {
   "cell_type": "code",
   "execution_count": 43,
   "id": "13400741",
   "metadata": {},
   "outputs": [
    {
     "name": "stdout",
     "output_type": "stream",
     "text": [
      "Accuracy: 0.9\n",
      "Precision: 0.891156462585034\n",
      "Recall: 0.8972602739726028\n",
      "F1_score: 0.891156462585034\n",
      "AUC-ROC: 0.8998496491814234\n"
     ]
    }
   ],
   "source": [
    "#Fitting on Support vector machine\n",
    "clf4 = SVC()\n",
    "clf4.fit(X_train, y_train)\n",
    "#predictions on test data\n",
    "y_pred4 = clf4.predict(X_test)\n",
    "# Evaluation metrics\n",
    "print(\"Accuracy:\", accuracy_score(y_test, y_pred4))\n",
    "print(\"Precision:\", precision_score(y_test, y_pred4))\n",
    "print(\"Recall:\", recall_score(y_test, y_pred4))\n",
    "print(\"F1_score:\", precision_score(y_test, y_pred4))\n",
    "print(\"AUC-ROC:\", roc_auc_score(y_test, y_pred4))"
   ]
  },
  {
   "cell_type": "markdown",
   "id": "b6d4809b",
   "metadata": {},
   "source": [
    "# Naive Bayes "
   ]
  },
  {
   "cell_type": "code",
   "execution_count": 44,
   "id": "5010db45",
   "metadata": {},
   "outputs": [
    {
     "name": "stdout",
     "output_type": "stream",
     "text": [
      "Accuracy: 0.7296774193548388\n",
      "Precision: 0.6468366383380547\n",
      "Recall: 0.9383561643835616\n",
      "F1_score: 0.6468366383380547\n",
      "AUC-ROC: 0.741129301703976\n"
     ]
    }
   ],
   "source": [
    "#Fitting Naive Bayes model \n",
    "clf5 = GaussianNB()\n",
    "clf5.fit(X_train, y_train)\n",
    "#predictions on test data\n",
    "y_pred5 = clf5.predict(X_test)\n",
    "# Evaluation metrics\n",
    "print(\"Accuracy:\", accuracy_score(y_test, y_pred5))\n",
    "print(\"Precision:\", precision_score(y_test, y_pred5))\n",
    "print(\"Recall:\", recall_score(y_test, y_pred5))\n",
    "print(\"F1_score:\", precision_score(y_test, y_pred5))\n",
    "print(\"AUC-ROC:\", roc_auc_score(y_test, y_pred5))"
   ]
  },
  {
   "cell_type": "markdown",
   "id": "e584f183",
   "metadata": {},
   "source": [
    "# Gradient Boosting"
   ]
  },
  {
   "cell_type": "code",
   "execution_count": 45,
   "id": "010f35a9",
   "metadata": {},
   "outputs": [
    {
     "name": "stdout",
     "output_type": "stream",
     "text": [
      "Accuracy: 0.7296774193548388\n",
      "Precision: 0.6468366383380547\n",
      "Recall: 0.9383561643835616\n",
      "F1_score: 0.6468366383380547\n",
      "AUC-ROC: 0.741129301703976\n"
     ]
    }
   ],
   "source": [
    "# Fitting Gradient Boosting Classifier\n",
    "clf6 = GradientBoostingClassifier()\n",
    "clf6.fit(X_train, y_train)\n",
    "#predictions on test data\n",
    "y_pred6 = clf6.predict(X_test)\n",
    "# Evaluation metrics\n",
    "print(\"Accuracy:\", accuracy_score(y_test, y_pred5))\n",
    "print(\"Precision:\", precision_score(y_test, y_pred5))\n",
    "print(\"Recall:\", recall_score(y_test, y_pred5))\n",
    "print(\"F1_score:\", precision_score(y_test, y_pred5))\n",
    "print(\"AUC-ROC:\", roc_auc_score(y_test, y_pred5))"
   ]
  },
  {
   "cell_type": "markdown",
   "id": "597b4ed4",
   "metadata": {},
   "source": [
    "# Hyperparameter for each model"
   ]
  },
  {
   "cell_type": "code",
   "execution_count": 46,
   "id": "8dac11df",
   "metadata": {},
   "outputs": [
    {
     "name": "stdout",
     "output_type": "stream",
     "text": [
      "Accuracy: 0.8541935483870968\n",
      "Precision: 0.8433242506811989\n",
      "Recall: 0.8479452054794521\n",
      "F1_score: 0.8433242506811989\n",
      "AUC-ROC: 0.8538506515202139\n"
     ]
    }
   ],
   "source": [
    "# Fitting on  Logistic Regression model\n",
    "param = LogisticRegression(penalty='l2', C=3.0, solver='lbfgs', max_iter=2000)\n",
    "param.fit(X_train, y_train)\n",
    "# predictions on test data\n",
    "y_pred_param = param.predict(X_test)\n",
    "# Evaluation metrics\n",
    "print(\"Accuracy:\", accuracy_score(y_test, y_pred_param))\n",
    "print(\"Precision:\", precision_score(y_test, y_pred_param))\n",
    "print(\"Recall:\", recall_score(y_test, y_pred_param))\n",
    "print(\"F1_score:\", precision_score(y_test, y_pred_param))\n",
    "print(\"AUC-ROC:\", roc_auc_score(y_test, y_pred_param))"
   ]
  },
  {
   "cell_type": "code",
   "execution_count": 47,
   "id": "f74e7347",
   "metadata": {},
   "outputs": [
    {
     "name": "stdout",
     "output_type": "stream",
     "text": [
      "Accuracy: 0.8890322580645161\n",
      "Precision: 0.8963068181818182\n",
      "Recall: 0.8643835616438356\n",
      "F1_score: 0.8963068181818182\n",
      "AUC-ROC: 0.8876795856999665\n"
     ]
    }
   ],
   "source": [
    "#Fitting on KNN\n",
    "param1 = KNeighborsClassifier(n_neighbors=2, weights='uniform', algorithm='auto', metric='minkowski')\n",
    "param1.fit(X_train, y_train)\n",
    "#predictions on test data\n",
    "y_pred_param1 = param1.predict(X_test)\n",
    "# Evaluation metrics\n",
    "print(\"Accuracy:\", accuracy_score(y_test, y_pred_param1))\n",
    "print(\"Precision:\", precision_score(y_test, y_pred_param1))\n",
    "print(\"Recall:\", recall_score(y_test, y_pred_param1))\n",
    "print(\"F1_score:\", precision_score(y_test, y_pred_param1))\n",
    "print(\"AUC-ROC:\", roc_auc_score(y_test, y_pred_param1))"
   ]
  },
  {
   "cell_type": "code",
   "execution_count": 48,
   "id": "cb1c8bc7",
   "metadata": {},
   "outputs": [
    {
     "name": "stdout",
     "output_type": "stream",
     "text": [
      "Accuracy: 0.8961290322580645\n",
      "Precision: 0.8860244233378561\n",
      "Recall: 0.8945205479452055\n",
      "F1_score: 0.8860244233378561\n",
      "AUC-ROC: 0.8960407617774808\n"
     ]
    }
   ],
   "source": [
    "#Fitting on decision tree\n",
    "param2 = DecisionTreeClassifier(criterion='entropy', splitter='best', max_depth=50, min_samples_split=5, min_samples_leaf=1)\n",
    "param2.fit(X_train, y_train)\n",
    "#predictions on test data\n",
    "y_pred_param2 = param2.predict(X_test)\n",
    "# Evaluation metrics\n",
    "print(\"Accuracy:\", accuracy_score(y_test, y_pred_param2))\n",
    "print(\"Precision:\", precision_score(y_test, y_pred_param2))\n",
    "print(\"Recall:\", recall_score(y_test, y_pred_param2))\n",
    "print(\"F1_score:\", precision_score(y_test, y_pred_param2))\n",
    "print(\"AUC-ROC:\", roc_auc_score(y_test, y_pred_param2))"
   ]
  },
  {
   "cell_type": "code",
   "execution_count": 49,
   "id": "7ca1b6f8",
   "metadata": {},
   "outputs": [
    {
     "name": "stdout",
     "output_type": "stream",
     "text": [
      "Accuracy: 0.9348387096774193\n",
      "Precision: 0.918774966711052\n",
      "Recall: 0.9452054794520548\n",
      "F1_score: 0.918774966711052\n",
      "AUC-ROC: 0.935407617774808\n"
     ]
    }
   ],
   "source": [
    "#Fitting on random forest tree\n",
    "param3 = RandomForestClassifier(n_estimators=1000, criterion='entropy', max_depth=None, \n",
    "                                min_samples_split=2, min_samples_leaf=1, max_features='auto',\n",
    "                                bootstrap=True, oob_score=False)\n",
    "param3.fit(X_train, y_train)\n",
    "#predictions on test data\n",
    "y_pred_param3 = param3.predict(X_test)\n",
    "# Evaluation metrics\n",
    "print(\"Accuracy:\", accuracy_score(y_test, y_pred_param3))\n",
    "print(\"Precision:\", precision_score(y_test, y_pred_param3))\n",
    "print(\"Recall:\", recall_score(y_test, y_pred_param3))\n",
    "print(\"F1_score:\", precision_score(y_test, y_pred_param3))\n",
    "print(\"AUC-ROC:\", roc_auc_score(y_test, y_pred_param3))"
   ]
  },
  {
   "cell_type": "code",
   "execution_count": 50,
   "id": "ef8f0c0b",
   "metadata": {},
   "outputs": [
    {
     "name": "stdout",
     "output_type": "stream",
     "text": [
      "Accuracy: 0.7296774193548388\n",
      "Precision: 0.6468366383380547\n",
      "Recall: 0.9383561643835616\n",
      "F1_score: 0.6468366383380547\n",
      "AUC-ROC: 0.741129301703976\n"
     ]
    }
   ],
   "source": [
    "#Fitting Naive Bayes model \n",
    "param5 = GaussianNB()\n",
    "param5.fit(X_train, y_train)\n",
    "#predictions on test data\n",
    "y_pred_param5 = param5.predict(X_test)\n",
    "# Evaluation metrics\n",
    "print(\"Accuracy:\", accuracy_score(y_test, y_pred_param5))\n",
    "print(\"Precision:\", precision_score(y_test, y_pred_param5))\n",
    "print(\"Recall:\", recall_score(y_test, y_pred_param5))\n",
    "print(\"F1_score:\", precision_score(y_test, y_pred_param5))\n",
    "print(\"AUC-ROC:\", roc_auc_score(y_test, y_pred_param5))"
   ]
  },
  {
   "cell_type": "code",
   "execution_count": 51,
   "id": "b7857917",
   "metadata": {},
   "outputs": [
    {
     "name": "stdout",
     "output_type": "stream",
     "text": [
      "Accuracy: 0.7296774193548388\n",
      "Precision: 0.6468366383380547\n",
      "Recall: 0.9383561643835616\n",
      "F1_score: 0.6468366383380547\n",
      "AUC-ROC: 0.741129301703976\n"
     ]
    }
   ],
   "source": [
    "# Fitting Gradient Boosting Classifier\n",
    "param6 = GradientBoostingClassifier(loss='deviance',\n",
    "                                     learning_rate=0.5,\n",
    "                                     n_estimators=1000,\n",
    "                                     criterion='friedman_mse',\n",
    "                                     min_samples_split=5,\n",
    "                                     min_samples_leaf=1,\n",
    "                                     max_depth=5,\n",
    "                                     random_state=0)\n",
    "param6.fit(X_train, y_train)\n",
    "#predictions on test data\n",
    "y_pred_param6 = param6.predict(X_test)\n",
    "# Evaluation metrics\n",
    "print(\"Accuracy:\", accuracy_score(y_test, y_pred_param5))\n",
    "print(\"Precision:\", precision_score(y_test, y_pred_param5))\n",
    "print(\"Recall:\", recall_score(y_test, y_pred_param5))\n",
    "print(\"F1_score:\", precision_score(y_test, y_pred_param5))\n",
    "print(\"AUC-ROC:\", roc_auc_score(y_test, y_pred_param5))"
   ]
  },
  {
   "cell_type": "markdown",
   "id": "b3fc1229",
   "metadata": {},
   "source": [
    "# Best fit model is Random Forest Tree Model"
   ]
  },
  {
   "cell_type": "code",
   "execution_count": 52,
   "id": "c8b2d41c",
   "metadata": {},
   "outputs": [
    {
     "name": "stdout",
     "output_type": "stream",
     "text": [
      "Accuracy: 0.9335483870967742\n",
      "Precision: 0.9163346613545816\n",
      "Recall: 0.9452054794520548\n",
      "F1_score: 0.9163346613545816\n",
      "AUC-ROC: 0.934188105579686\n"
     ]
    }
   ],
   "source": [
    "#Fitting on random forest tree\n",
    "param3 = RandomForestClassifier(n_estimators=1000, criterion='entropy', max_depth=None, \n",
    "                                min_samples_split=2, min_samples_leaf=1, max_features='auto',\n",
    "                                bootstrap=True, oob_score=False)\n",
    "param3.fit(X_train, y_train)\n",
    "#predictions on test data\n",
    "y_pred_param3 = param3.predict(X_test)\n",
    "# Evaluation metrics\n",
    "print(\"Accuracy:\", accuracy_score(y_test, y_pred_param3))\n",
    "print(\"Precision:\", precision_score(y_test, y_pred_param3))\n",
    "print(\"Recall:\", recall_score(y_test, y_pred_param3))\n",
    "print(\"F1_score:\", precision_score(y_test, y_pred_param3))\n",
    "print(\"AUC-ROC:\", roc_auc_score(y_test, y_pred_param3))"
   ]
  },
  {
   "cell_type": "code",
   "execution_count": 53,
   "id": "ba234149",
   "metadata": {},
   "outputs": [],
   "source": [
    "# predicting the train label \n",
    "y_pred_train = param3.predict(X_train)"
   ]
  },
  {
   "cell_type": "code",
   "execution_count": 54,
   "id": "d7a1e846",
   "metadata": {},
   "outputs": [
    {
     "name": "stdout",
     "output_type": "stream",
     "text": [
      "              precision    recall  f1-score   support\n",
      "\n",
      "           0       1.00      1.00      1.00      3054\n",
      "           1       1.00      1.00      1.00      3144\n",
      "\n",
      "    accuracy                           1.00      6198\n",
      "   macro avg       1.00      1.00      1.00      6198\n",
      "weighted avg       1.00      1.00      1.00      6198\n",
      "\n"
     ]
    }
   ],
   "source": [
    "print(classification_report(y_train,y_pred_train))"
   ]
  },
  {
   "cell_type": "code",
   "execution_count": 55,
   "id": "6d0c661f",
   "metadata": {},
   "outputs": [
    {
     "name": "stdout",
     "output_type": "stream",
     "text": [
      "1.0\n"
     ]
    }
   ],
   "source": [
    "print(f1_score(y_train,y_pred_train,average='weighted'))"
   ]
  },
  {
   "cell_type": "code",
   "execution_count": 56,
   "id": "2b1f0bec",
   "metadata": {},
   "outputs": [
    {
     "name": "stdout",
     "output_type": "stream",
     "text": [
      "[0. 0. 1.]\n",
      "[0. 1. 1.]\n",
      "[2 1 0]\n"
     ]
    }
   ],
   "source": [
    "train_fpr,train_tpr,train_threshold = roc_curve(y_train,y_pred_train)\n",
    "print(train_fpr)\n",
    "print(train_tpr)\n",
    "print(train_threshold)"
   ]
  },
  {
   "cell_type": "code",
   "execution_count": 57,
   "id": "435b1711",
   "metadata": {},
   "outputs": [
    {
     "data": {
      "text/plain": [
       "[<matplotlib.lines.Line2D at 0x23252a77a30>]"
      ]
     },
     "execution_count": 57,
     "metadata": {},
     "output_type": "execute_result"
    },
    {
     "data": {
      "image/png": "[encoded data removed]",
      "text/plain": [
       "<Figure size 500x500 with 1 Axes>"
      ]
     },
     "metadata": {},
     "output_type": "display_data"
    }
   ],
   "source": [
    "plt.figure(figsize=(5,5))\n",
    "plt.plot(train_fpr,train_tpr)"
   ]
  },
  {
   "cell_type": "code",
   "execution_count": 58,
   "id": "9df1d715",
   "metadata": {},
   "outputs": [],
   "source": [
    "#Now predicting on test data"
   ]
  },
  {
   "cell_type": "code",
   "execution_count": 59,
   "id": "fb152a78",
   "metadata": {},
   "outputs": [],
   "source": [
    "y_pred_test = param3.predict(X_test)"
   ]
  },
  {
   "cell_type": "code",
   "execution_count": 60,
   "id": "2a8c2a36",
   "metadata": {},
   "outputs": [
    {
     "name": "stdout",
     "output_type": "stream",
     "text": [
      "              precision    recall  f1-score   support\n",
      "\n",
      "           0       0.95      0.92      0.94       820\n",
      "           1       0.92      0.95      0.93       730\n",
      "\n",
      "    accuracy                           0.93      1550\n",
      "   macro avg       0.93      0.93      0.93      1550\n",
      "weighted avg       0.93      0.93      0.93      1550\n",
      "\n"
     ]
    }
   ],
   "source": [
    "print(classification_report(y_test,y_pred_test))"
   ]
  },
  {
   "cell_type": "code",
   "execution_count": 61,
   "id": "b3d56066",
   "metadata": {},
   "outputs": [
    {
     "name": "stdout",
     "output_type": "stream",
     "text": [
      "0.9335910899598903\n"
     ]
    }
   ],
   "source": [
    "print(f1_score(y_test,y_pred_test,average='weighted'))"
   ]
  },
  {
   "cell_type": "code",
   "execution_count": 62,
   "id": "db47c536",
   "metadata": {},
   "outputs": [
    {
     "name": "stdout",
     "output_type": "stream",
     "text": [
      "[0.         0.07682927 1.        ]\n",
      "[0.         0.94520548 1.        ]\n",
      "[2 1 0]\n"
     ]
    }
   ],
   "source": [
    "train_fpr2,train_tpr2,train_threshold2 = roc_curve(y_test,y_pred_test)\n",
    "print(train_fpr2)\n",
    "print(train_tpr2)\n",
    "print(train_threshold2)"
   ]
  },
  {
   "cell_type": "code",
   "execution_count": 63,
   "id": "064331f5",
   "metadata": {},
   "outputs": [
    {
     "data": {
      "text/plain": [
       "[<matplotlib.lines.Line2D at 0x232527a34c0>]"
      ]
     },
     "execution_count": 63,
     "metadata": {},
     "output_type": "execute_result"
    },
    {
     "data": {
      "image/png": "[encoded data removed]",
      "text/plain": [
       "<Figure size 500x500 with 1 Axes>"
      ]
     },
     "metadata": {},
     "output_type": "display_data"
    }
   ],
   "source": [
    "plt.figure(figsize=(5,5))\n",
    "plt.plot(train_fpr2,train_tpr2)"
   ]
  },
  {
   "cell_type": "code",
   "execution_count": null,
   "id": "fc9f3463",
   "metadata": {},
   "outputs": [],
   "source": []
  },
  {
   "cell_type": "code",
   "execution_count": null,
   "id": "a41528d8",
   "metadata": {},
   "outputs": [],
   "source": []
  },
  {
   "cell_type": "code",
   "execution_count": null,
   "id": "2dfc49b7",
   "metadata": {},
   "outputs": [],
   "source": []
  },
  {
   "cell_type": "code",
   "execution_count": null,
   "id": "8b87d4e0",
   "metadata": {},
   "outputs": [],
   "source": []
  }
 ],
 "metadata": {
  "kernelspec": {
   "display_name": "Python 3 (ipykernel)",
   "language": "python",
   "name": "python3"
  },
  "language_info": {
   "codemirror_mode": {
    "name": "ipython",
    "version": 3
   },
   "file_extension": ".py",
   "mimetype": "text/x-python",
   "name": "python",
   "nbconvert_exporter": "python",
   "pygments_lexer": "ipython3",
   "version": "3.9.13"
  }
 },
 "nbformat": 4,
 "nbformat_minor": 5
}
